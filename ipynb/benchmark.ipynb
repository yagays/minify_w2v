{
 "cells": [
  {
   "cell_type": "code",
   "execution_count": 1,
   "metadata": {},
   "outputs": [],
   "source": [
    "import sys\n",
    "sys.path.append(\"../minify_w2v/\")"
   ]
  },
  {
   "cell_type": "code",
   "execution_count": 2,
   "metadata": {},
   "outputs": [],
   "source": [
    "import gensim\n",
    "from gensim.models import KeyedVectors\n",
    "\n",
    "from minify_w2v import MinifyW2V"
   ]
  },
  {
   "cell_type": "markdown",
   "metadata": {},
   "source": [
    "# Environment"
   ]
  },
  {
   "cell_type": "code",
   "execution_count": 3,
   "metadata": {},
   "outputs": [
    {
     "data": {
      "text/plain": [
       "'3.6.6 (default, Sep 26 2018, 16:17:43) \\n[GCC 4.2.1 Compatible Apple LLVM 10.0.0 (clang-1000.10.44.2)]'"
      ]
     },
     "execution_count": 3,
     "metadata": {},
     "output_type": "execute_result"
    }
   ],
   "source": [
    "sys.version"
   ]
  },
  {
   "cell_type": "code",
   "execution_count": 4,
   "metadata": {},
   "outputs": [
    {
     "data": {
      "text/plain": [
       "'3.7.0'"
      ]
     },
     "execution_count": 4,
     "metadata": {},
     "output_type": "execute_result"
    }
   ],
   "source": [
    "gensim.__version__"
   ]
  },
  {
   "cell_type": "code",
   "execution_count": 5,
   "metadata": {},
   "outputs": [],
   "source": [
    "mw2v = MinifyW2V()\n",
    "# vocab size = 727,471\n",
    "mw2v.load_word2vec(\"../data/jawiki.word_vectors.200d.txt\")\n",
    "\n",
    "# set target vocab size = 10,000\n",
    "mw2v.set_target_vocab(target_vocab=mw2v.model.index2word[:10000])\n",
    "\n",
    "mw2v.model.save_word2vec_format(\"../data/jawiki.word_vectors.200d.bin\", binary=True)\n",
    "mw2v.save_word2vec(\"../data/jawiki.word_vectors.200d.10000.txt\", binary=False)\n",
    "mw2v.save_word2vec(\"../data/jawiki.word_vectors.200d.10000.bin\", binary=True)"
   ]
  },
  {
   "cell_type": "markdown",
   "metadata": {},
   "source": [
    "# File size"
   ]
  },
  {
   "cell_type": "code",
   "execution_count": 6,
   "metadata": {},
   "outputs": [
    {
     "name": "stdout",
     "output_type": "stream",
     "text": [
      "-rw-r--r--  1 okuda  610996163   7.7M  2 18 23:16 ../data/jawiki.word_vectors.200d.10000.bin\r\n",
      "-rw-r--r--  1 okuda  610996163    22M  2 18 23:16 ../data/jawiki.word_vectors.200d.10000.txt\r\n",
      "-rw-r--r--  1 okuda  610996163   563M  2 18 23:16 ../data/jawiki.word_vectors.200d.bin\r\n"
     ]
    }
   ],
   "source": [
    "ls -lh ../data/jawiki.word_vectors.200d.bin ../data/jawiki.word_vectors.200d.10000.txt ../data/jawiki.word_vectors.200d.10000.bin"
   ]
  },
  {
   "cell_type": "markdown",
   "metadata": {},
   "source": [
    "# Load time from binary format"
   ]
  },
  {
   "cell_type": "code",
   "execution_count": 7,
   "metadata": {},
   "outputs": [
    {
     "name": "stdout",
     "output_type": "stream",
     "text": [
      "15.9 s ± 58.6 ms per loop (mean ± std. dev. of 7 runs, 1 loop each)\n"
     ]
    }
   ],
   "source": [
    "%timeit KeyedVectors.load_word2vec_format(\"../data/jawiki.word_vectors.200d.bin\", binary=True)"
   ]
  },
  {
   "cell_type": "code",
   "execution_count": 8,
   "metadata": {},
   "outputs": [
    {
     "name": "stdout",
     "output_type": "stream",
     "text": [
      "190 ms ± 4.82 ms per loop (mean ± std. dev. of 7 runs, 1 loop each)\n"
     ]
    }
   ],
   "source": [
    "%timeit KeyedVectors.load_word2vec_format(\"../data/jawiki.word_vectors.200d.10000.bin\", binary=True)"
   ]
  },
  {
   "cell_type": "markdown",
   "metadata": {},
   "source": [
    "# Load time from text format"
   ]
  },
  {
   "cell_type": "code",
   "execution_count": 9,
   "metadata": {},
   "outputs": [
    {
     "name": "stdout",
     "output_type": "stream",
     "text": [
      "1min 27s ± 371 ms per loop (mean ± std. dev. of 7 runs, 1 loop each)\n"
     ]
    }
   ],
   "source": [
    "%timeit KeyedVectors.load_word2vec_format(\"../data/jawiki.word_vectors.200d.txt\", binary=False)"
   ]
  },
  {
   "cell_type": "code",
   "execution_count": 10,
   "metadata": {},
   "outputs": [
    {
     "name": "stdout",
     "output_type": "stream",
     "text": [
      "1.18 s ± 10.8 ms per loop (mean ± std. dev. of 7 runs, 1 loop each)\n"
     ]
    }
   ],
   "source": [
    "%timeit KeyedVectors.load_word2vec_format(\"../data/jawiki.word_vectors.200d.10000.txt\", binary=False)"
   ]
  }
 ],
 "metadata": {
  "kernelspec": {
   "display_name": "Python 3",
   "language": "python",
   "name": "python3"
  },
  "language_info": {
   "codemirror_mode": {
    "name": "ipython",
    "version": 3
   },
   "file_extension": ".py",
   "mimetype": "text/x-python",
   "name": "python",
   "nbconvert_exporter": "python",
   "pygments_lexer": "ipython3",
   "version": "3.6.6"
  }
 },
 "nbformat": 4,
 "nbformat_minor": 2
}
